{
 "cells": [
  {
   "cell_type": "markdown",
   "metadata": {},
   "source": [
    "#  Modelo THDM-III + RHN en la base del Higgs"
   ]
  },
  {
   "cell_type": "markdown",
   "metadata": {},
   "source": [
    "Sample of notebook for specific model"
   ]
  },
  {
   "cell_type": "code",
   "execution_count": 1,
   "metadata": {},
   "outputs": [
    {
     "name": "stdout",
     "output_type": "stream",
     "text": [
      "Populating the interactive namespace from numpy and matplotlib\n"
     ]
    }
   ],
   "source": [
    "%pylab inline"
   ]
  },
  {
   "cell_type": "code",
   "execution_count": 2,
   "metadata": {},
   "outputs": [],
   "source": [
    "import pandas as pd\n",
    "import numpy as np\n",
    "import os, sys, inspect\n",
    "import commands\n",
    "import hep as hp\n",
    "import scipy as sc"
   ]
  },
  {
   "cell_type": "code",
   "execution_count": 3,
   "metadata": {},
   "outputs": [],
   "source": [
    "import numpy.lib.scimath as sc"
   ]
  },
  {
   "cell_type": "code",
   "execution_count": 4,
   "metadata": {},
   "outputs": [],
   "source": [
    "a=hp.hep(MODEL='THDMIIIRHN')"
   ]
  },
  {
   "cell_type": "code",
   "execution_count": 5,
   "metadata": {},
   "outputs": [
    {
     "data": {
      "text/plain": [
       "1    1.0000000E-01   # lambda1Input\n",
       "2    1.3000000E-01   # lambda2Input\n",
       "3    1.1000000E+00   # lambda3Input\n",
       "4    -5.0000000E-01  # lambda4Input\n",
       "5    -5.0000000E-01  # lambda5Input\n",
       "6    0.000000E+00    # lambda6Input\n",
       "7    0.000000E+00    # lambda7Input\n",
       "8       4.0000000E+04   # mEt2Input\n",
       "dtype: object"
      ]
     },
     "execution_count": 5,
     "metadata": {},
     "output_type": "execute_result"
    }
   ],
   "source": [
    "pd.Series(a.LHA.blocks['MINPAR'].entries)"
   ]
  },
  {
   "cell_type": "code",
   "execution_count": 6,
   "metadata": {},
   "outputs": [],
   "source": [
    "def Phys_to_Gen(Mh, MH, MA, MHp, Y133, Y233, v, lam5, lam6, lam7):\n",
    "    MHp2 = MHp*MHp; MA2 = MA*MA; v2 = v*v; MH2 = MH*MH; Mh2 = Mh*Mh;\n",
    "    Beta = np.arctan2(-Y233,Y133); Alpha = Beta-1.5;\n",
    "    ca = np.cos(Alpha); sa = np.sin(Alpha); ca2 = ca*ca; sa2 = sa*sa;\n",
    "    tb = np.tan(Beta); cb = np.cos(Beta); sb = np.sin(Beta);\n",
    "    tb2 = tb*tb; sb2 = sb*sb; cb2 = cb*cb;\n",
    "    cba = np.cos(Beta-Alpha); sba = np.sin(Beta-Alpha);\n",
    "    \n",
    "    lam1 = (MH2*ca2+Mh2*sa2-MA2*sb2)/(v2*cb2)-lam5*tb2-2.0*lam6*tb\n",
    "    lam2 = (MH2*sa2+Mh2*ca2-MA2*cb2)/(v2*sb2)-lam5/tb2-2.0*lam7/tb\n",
    "    lam3 = ((MH2-Mh2)*ca*sa+(2.0*MHp2-MA2)*sb*cb)/(v2*sb*cb)-lam5-lam6/tb-lam7*tb\n",
    "    lam4 = 2.0*(MA2-MHp2)/v2+lam5\n",
    "    m112 = -(MH2*ca*cba-Mh2*sa*sba)/(2.0*cb)+(MA2+lam5*v2)*sb2+0.5*v2*(lam6*sb*cb+lam7*sb2*tb)\n",
    "    m222 = -(Mh2*ca*sba+MH2*sa*cba)/(2.0*sb)+(MA2+lam5*v2)*cb2+0.5*v2*(lam6*cb2/tb+lam7*sb*cb)\n",
    "    m122 = MA2*sb*cb+(v2*sb*cb)*(lam5+0.5*(lam6/tb+lam7*tb))\n",
    "    \n",
    "    return lam1, lam2, lam3, lam4, m112, m222, m122 \n",
    "\n",
    "def Gen_to_Higgs(lam1, lam2, lam3, lam4, lam5, lam6, lam7, m122, Y133, Y233, m112):\n",
    "    Beta = np.arctan2(-Y233,Y133); Alpha = Beta-1.5;\n",
    "    ca = np.cos(Alpha); sa = np.sin(Alpha); ca2 = ca*ca; sa2 = sa*sa;\n",
    "    tb = np.tan(Beta); cb = np.cos(Beta); sb = np.sin(Beta);\n",
    "    tb3 = tb*tb*tb; sb2 = sb*sb; cb2 = cb*cb;\n",
    "    c2b = np.cos(2.0*Beta); s2b = np.sin(2.0*Beta);\n",
    "    c3b = np.cos(2.0*Beta); s3b = np.sin(3.0*Beta);\n",
    "    cba = np.cos(Beta-Alpha); sba = np.sin(Beta-Alpha);\n",
    "    lam345 = lam3+lam4+lam5\n",
    "    \n",
    "    m112 = m122*tb-0.5*v2*(lam1*cb2+(lam3+lam4+lam5)*sb2+3.*lam6*sb*cb+lam7*sb2*tb)\n",
    "    m222 = m122/tb-0.5*v2*(lam2*sb2+(lam3+lam4+lam5)*cb2+lam6*cb2/tb+3.*lam7*sb*cb)\n",
    "    M222 = m112*sb2+m222*cb2+m122*s2b\n",
    "    Lam1 = lam1*cb2*cb2+lam2*sb2*sb2+0.5*lam345*s2b*s2b+2.0*s2b*(cb2*lam6+sb2*lam7)\n",
    "    Lam2 = lam1*sb2*sb2+lam2*cb2*cb2+0.5*lam345*s2b*s2b-2.0*s2b*(sb2*lam6+cb2*lam7)\n",
    "    Lam3 = 0.25*s2b*s2b*(lam1+lam2-2.0*lam345)+lam3-s2b*c2b*(lam6-lam7)\n",
    "    Lam4 = 0.25*s2b*s2b*(lam1+lam2-2.0*lam345)+lam4-s2b*c2b*(lam6-lam7)\n",
    "    Lam5 = 0.25*s2b*s2b*(lam1+lam2-2.0*lam345)+lam5-s2b*c2b*(lam6-lam7)\n",
    "    Lam6 = -0.5*s2b*(lam1*cb2-lam2*sb2-lam345*c2b)+cb*c3b*lam6+sb*s3b*lam7\n",
    "    Lam7 = -0.5*s2b*(lam1*sb2-lam2*cb2-lam345*c2b)+sb*s3b*lam6+cb*c3b*lam7\n",
    "    \n",
    "    return M222, Lam1, Lam2, Lam3, Lam4, Lam5, Lam6, Lam7 \n",
    "\n",
    "def Phys_to_Higgs(Mh, MH, MA, MHp, Y133, Y233, v, lam5, lam6, lam7):\n",
    "    lam1, lam2, lam3, lam4, m112, m222, m122 = Phys_to_Gen(Mh, MH, MA, MHp, Y133, Y233, v, lam5, lam6, lam7)\n",
    "    M222, Lam1, Lam2, Lam3, Lam4, Lam5, Lam6, Lam7 = Gen_to_Higgs(lam1, lam2, lam3, lam4, lam5, lam6, lam7, m122, Y133, Y233, m112)    \n",
    "    return M222, Lam1, Lam2, Lam3, Lam4, Lam5, Lam6, Lam7 "
   ]
  },
  {
   "cell_type": "code",
   "execution_count": 8,
   "metadata": {},
   "outputs": [
    {
     "name": "stdout",
     "output_type": "stream",
     "text": [
      "148537.64090000896 0.2671855518253095 0.24718555182530938 -0.8591233673035318 0.1658795725905885 0.04957065346174727 -0.1326759178062471 -0.13767591780624716\n"
     ]
    }
   ],
   "source": [
    "v = 246.2\n",
    "v2 = v*v\n",
    "\n",
    "MHp = 350.0\n",
    "MA = MHp+5.\n",
    "Mh = 125.0\n",
    "MH = MHp+10.\n",
    "\n",
    "lam5 = 5.0000000E-01\n",
    "lam6 = 0.0000000E-01\n",
    "lam7 = 1.0000000E-02\n",
    "\n",
    "Y133 = 0.0240086062\n",
    "Y233 = -Y133\n",
    "epsD33 = Y233\n",
    "\n",
    "Lam1, Lam2, Lam3, Lam4, 112, m222, m122 = Phys_to_Gen(Mh, MH, MA, MHp, Y133, Y233, v, lam5, lam6, lam7)\n",
    "#M222, Lam1, Lam2, Lam3, Lam4, Lam5, Lam6, Lam7 = Phys_to_Higgs(Mh, MH, MA, MHp, Y133, Y233, v, lam5, lam6, lam7)\n",
    "#print M222, Lam1, Lam2, Lam3, Lam4, Lam5, Lam6, Lam7"
   ]
  },
  {
   "cell_type": "code",
   "execution_count": 9,
   "metadata": {},
   "outputs": [
    {
     "name": "stdout",
     "output_type": "stream",
     "text": [
      "350.00000000000006\n",
      "1.5\n"
     ]
    }
   ],
   "source": [
    "MHp2 = M222+0.5*v2*Lam3\n",
    "print(np.sqrt(MHp2))\n",
    "s2ba = -2.0*Lam6*v2\n",
    "c2ba = -(MA**2+(Lam5-Lam1)*v2)\n",
    "bma = 0.5*np.arctan2(s2ba,c2ba)\n",
    "print(bma)"
   ]
  },
  {
   "cell_type": "code",
   "execution_count": 10,
   "metadata": {},
   "outputs": [],
   "source": [
    "devnull=commands.getoutput('rm -f SPheno.spc.%s' %a.MODEL)\n",
    "\n",
    "a.LHA.blocks['SPHENOINPUT'].entries[55]='0               # Calculate one loop masses'\n",
    "a.LHA.blocks['MINPAR'][1]='%0.8E       #lambda1Input' %Lam1\n",
    "a.LHA.blocks['MINPAR'][2]='%0.8E       #lambda2Input' %Lam2\n",
    "a.LHA.blocks['MINPAR'][3]='%0.8E       #lambda3Input' %Lam3\n",
    "a.LHA.blocks['MINPAR'][4]='%0.8E       #lambda4Input' %Lam4\n",
    "a.LHA.blocks['MINPAR'][5]='%0.8E       #lambda5Input' %Lam5\n",
    "a.LHA.blocks['MINPAR'][6]='%0.8E       #lambda6Input' %Lam6\n",
    "a.LHA.blocks['MINPAR'][7]='%0.8E       #lambda7Input' %Lam7\n",
    "a.LHA.blocks['MINPAR'][8]='%0.8E      #mEt2Input'    %M222\n"
   ]
  },
  {
   "cell_type": "code",
   "execution_count": 11,
   "metadata": {},
   "outputs": [],
   "source": [
    "Q = np.zeros((3,3))\n",
    "\n",
    "Mn = 1000.0\n",
    "Yn1 = 1.500000E-02\n",
    "Yn2 = 9.000000E-05\n",
    "Yn3 = 1.000000E-05\n",
    "epsN1 = 6.000000E-02\n",
    "epsN2 = 4.000000E-02\n",
    "epsN3 = 2.000000E-02"
   ]
  },
  {
   "cell_type": "code",
   "execution_count": 12,
   "metadata": {},
   "outputs": [],
   "source": [
    "epsE11 = Q[0,0]          # epsE(1,1)\n",
    "epsE12 = Q[0,1]          # epsE(1,2)\n",
    "epsE13 = Q[0,2]          # epsE(1,3)\n",
    "epsE21 = Q[1,0]          # epsE(2,1)\n",
    "epsE22 = Q[1,1]          # epsE(2,2)\n",
    "epsE23 = Q[1,2]          # epsE(2,3)\n",
    "epsE31 = Q[2,0]          # epsE(3,1)\n",
    "epsE32 = Q[2,1]          # epsE(3,2)\n",
    "epsE33 = Q[2,2]          # epsE(3,3)\n",
    "\n",
    "a.LHA.blocks['EPSDIN'][(1,1)]='%0.8E      # epsD(1,1)'    %epsE11\n",
    "a.LHA.blocks['EPSDIN'][(1,2)]='%0.8E      # epsD(1,2)'    %epsE12\n",
    "a.LHA.blocks['EPSDIN'][(1,3)]='%0.8E      # epsD(1,3)'    %epsE13\n",
    "a.LHA.blocks['EPSDIN'][(2,1)]='%0.8E      # epsD(2,1)'    %epsE21\n",
    "a.LHA.blocks['EPSDIN'][(2,2)]='%0.8E      # epsD(2,2)'    %epsE22\n",
    "a.LHA.blocks['EPSDIN'][(2,3)]='%0.8E      # epsD(2,3)'    %epsE23\n",
    "a.LHA.blocks['EPSDIN'][(3,1)]='%0.8E      # epsD(3,1)'    %epsE31\n",
    "a.LHA.blocks['EPSDIN'][(3,2)]='%0.8E      # epsD(3,2)'    %epsE32\n",
    "a.LHA.blocks['EPSDIN'][(3,3)]='%0.8E      # epsD(3,3)'    %epsD33\n",
    "\n",
    "a.LHA.blocks['EPSUIN'][(1,1)]='%0.8E      # epsU(1,1)'    %epsE11\n",
    "a.LHA.blocks['EPSUIN'][(1,2)]='%0.8E      # epsU(1,2)'    %epsE12\n",
    "a.LHA.blocks['EPSUIN'][(1,3)]='%0.8E      # epsU(1,3)'    %epsE13\n",
    "a.LHA.blocks['EPSUIN'][(2,1)]='%0.8E      # epsU(2,1)'    %epsE21\n",
    "a.LHA.blocks['EPSUIN'][(2,2)]='%0.8E      # epsU(2,2)'    %epsE22\n",
    "a.LHA.blocks['EPSUIN'][(2,3)]='%0.8E      # epsU(2,3)'    %epsE23\n",
    "a.LHA.blocks['EPSUIN'][(3,1)]='%0.8E      # epsU(3,1)'    %epsE31\n",
    "a.LHA.blocks['EPSUIN'][(3,2)]='%0.8E      # epsU(3,2)'    %epsE32\n",
    "a.LHA.blocks['EPSUIN'][(3,3)]='%0.8E      # epsU(3,3)'    %epsE33\n",
    "\n",
    "a.LHA.blocks['EPSEIN'][(1,1)]='%0.8E      # epsE(1,1)'    %epsE11\n",
    "a.LHA.blocks['EPSEIN'][(1,2)]='%0.8E      # epsE(1,2)'    %epsE12\n",
    "a.LHA.blocks['EPSEIN'][(1,3)]='%0.8E      # epsE(1,3)'    %epsE13\n",
    "a.LHA.blocks['EPSEIN'][(2,1)]='%0.8E      # epsE(2,1)'    %epsE21\n",
    "a.LHA.blocks['EPSEIN'][(2,2)]='%0.8E      # epsE(2,2)'    %epsE22\n",
    "a.LHA.blocks['EPSEIN'][(2,3)]='%0.8E      # epsE(2,3)'    %epsE23\n",
    "a.LHA.blocks['EPSEIN'][(3,1)]='%0.8E      # epsE(3,1)'    %epsE31\n",
    "a.LHA.blocks['EPSEIN'][(3,2)]='%0.8E      # epsE(3,2)'    %epsE32\n",
    "a.LHA.blocks['EPSEIN'][(3,3)]='%0.8E      # epsE(3,3)'    %epsE33\n",
    "\n",
    "a.LHA.blocks['YNIN'][(1)]='%0.8E      # Yn(1)'    %Yn1\n",
    "a.LHA.blocks['YNIN'][(2)]='%0.8E      # Yn(2)'    %Yn2\n",
    "a.LHA.blocks['YNIN'][(3)]='%0.8E      # Yn(3)'    %Yn3\n",
    "\n",
    "a.LHA.blocks['EPSNIN'][(1)]='%0.8E      # epsN(1)'    %epsN1\n",
    "a.LHA.blocks['EPSNIN'][(2)]='%0.8E      # epsN(2)'    %epsN2\n",
    "a.LHA.blocks['EPSNIN'][(3)]='%0.8E      # epsN(3)'    %epsN3\n",
    "\n",
    "a.LHA.blocks['MNIN'][(1)]='%0.8E      # Mn'    %Mn\n",
    "\n",
    "moc=a.runSPheno()"
   ]
  },
  {
   "cell_type": "code",
   "execution_count": 13,
   "metadata": {},
   "outputs": [
    {
     "name": "stdout",
     "output_type": "stream",
     "text": [
      "3.82896028916212e-05 0.00681873505835\n"
     ]
    }
   ],
   "source": [
    "MH = a.LHA_out.blocks[\"MASS\"][35]\n",
    "Mn = a.LHA_out.blocks[\"MASS\"][1012]\n",
    "v2 = v*v\n",
    "Yv12 = Yn1*Yn1+Yn2*Yn2+Yn3*Yn3\n",
    "Yv22 = epsN1*epsN1+epsN2*epsN2+epsN3*epsN3\n",
    "Yv122 = ((Yn1*epsN1)+(Yn2*epsN2)+(Yn3*epsN3))**2\n",
    "\n",
    "m3 = v2*Yv12/(2.0*Mn)\n",
    "m2 = (np.fabs(Lam5)*v2/(16.0*np.pi**2*Mn))*(Yv22-Yv122/Yv12)*np.log(Mn/MH)\n",
    "\n",
    "print m2, m3"
   ]
  },
  {
   "cell_type": "code",
   "execution_count": 14,
   "metadata": {},
   "outputs": [
    {
     "data": {
      "text/plain": [
       "_dict([(25, '1.25009946E+02  # hh_1'),\n",
       "       (35, '3.59995778E+02  # hh_2'),\n",
       "       (36, '3.54994702E+02  # etI'),\n",
       "       (37, '3.49993785E+02  # etp'),\n",
       "       (23, '9.11887000E+01  # VZ'),\n",
       "       (24, '8.03497269E+01  # VWp'),\n",
       "       (1, '5.00000000E-03  # Fd_1'),\n",
       "       (3, '9.50000000E-02  # Fd_2'),\n",
       "       (5, '4.18000000E+00  # Fd_3'),\n",
       "       (2, '2.50000000E-03  # Fu_1'),\n",
       "       (4, '1.27000000E+00  # Fu_2'),\n",
       "       (6, '1.73500000E+02  # Fu_3'),\n",
       "       (11, '5.10998930E-04  # Fe_1'),\n",
       "       (13, '1.05658372E-01  # Fe_2'),\n",
       "       (15, '1.77669000E+00  # Fe_3'),\n",
       "       (12, '-4.80769274E-20 # Fv_1'),\n",
       "       (14, '2.83034838E-05  # Fv_2'),\n",
       "       (16, '-6.98463477E-03 # Fv_3'),\n",
       "       (1012, '1.00009356E+03  # Fv_4')])"
      ]
     },
     "execution_count": 14,
     "metadata": {},
     "output_type": "execute_result"
    }
   ],
   "source": [
    "a.LHA_out_with_comments.blocks[\"MASS\"].entries"
   ]
  },
  {
   "cell_type": "code",
   "execution_count": null,
   "metadata": {},
   "outputs": [],
   "source": []
  },
  {
   "cell_type": "markdown",
   "metadata": {},
   "source": [
    "[![Home](http://www.incredimail.com/images/nav%20bar/home-icon.png)](./) \n",
    "[Jupyter home](./draft.pdf)"
   ]
  }
 ],
 "metadata": {
  "kernelspec": {
   "display_name": "Python 2",
   "language": "python",
   "name": "python2"
  },
  "language_info": {
   "codemirror_mode": {
    "name": "ipython",
    "version": 2
   },
   "file_extension": ".py",
   "mimetype": "text/x-python",
   "name": "python",
   "nbconvert_exporter": "python",
   "pygments_lexer": "ipython2",
   "version": "2.7.12"
  }
 },
 "nbformat": 4,
 "nbformat_minor": 1
}
